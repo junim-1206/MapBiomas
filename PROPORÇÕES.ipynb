{
 "cells": [
  {
   "cell_type": "code",
   "execution_count": 17,
   "id": "766d3079",
   "metadata": {},
   "outputs": [
    {
     "data": {
      "text/plain": [
       "1      2021\n",
       "3      2021\n",
       "5      2021\n",
       "7      2021\n",
       "9      2021\n",
       "       ... \n",
       "940    2021\n",
       "942    2021\n",
       "944    2021\n",
       "946    2021\n",
       "948    2021\n",
       "Name: ano, Length: 485, dtype: int64"
      ]
     },
     "execution_count": 17,
     "metadata": {},
     "output_type": "execute_result"
    }
   ],
   "source": [
    "import pandas as pd\n",
    "\n",
    "def classify_number(x):\n",
    "    if x in [15, 20, 21, 24, 30, 39, 40, 41, 46, 47, 48, 62, 9]:\n",
    "        return 'Antrópico'\n",
    "    elif x in [1, 3, 4, 5, 49, 10, 11, 12, 32, 29, 50, 13, 23]:\n",
    "        return 'Não-Antrópico'\n",
    "    else:\n",
    "        return 'Não-Contabilizado'\n",
    "\n",
    "df = pd.read_csv('UNIDO.csv')\n",
    "df['classificação'] = df['DN'].apply(classify_number)\n",
    "df = df.iloc[:, 1:]\n",
    "\n",
    "df['ano'][df['ano']==2021]"
   ]
  },
  {
   "cell_type": "code",
   "execution_count": 20,
   "id": "92f7fb33",
   "metadata": {},
   "outputs": [],
   "source": [
    "df.groupby(['DN', 'nome', 'ano']).agg({'area': 'sum'}).reset_index()\n",
    "df['ano']\n",
    "df.to_csv('AGRUPADO.csv')"
   ]
  }
 ],
 "metadata": {
  "kernelspec": {
   "display_name": "Python 3 (ipykernel)",
   "language": "python",
   "name": "python3"
  },
  "language_info": {
   "codemirror_mode": {
    "name": "ipython",
    "version": 3
   },
   "file_extension": ".py",
   "mimetype": "text/x-python",
   "name": "python",
   "nbconvert_exporter": "python",
   "pygments_lexer": "ipython3",
   "version": "3.9.12"
  }
 },
 "nbformat": 4,
 "nbformat_minor": 5
}
